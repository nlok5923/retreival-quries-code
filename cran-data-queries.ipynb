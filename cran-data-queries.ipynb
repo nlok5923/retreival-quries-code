{
 "cells": [
  {
   "cell_type": "code",
   "execution_count": 2,
   "source": [
    "import requests\r\n",
    "import json"
   ],
   "outputs": [],
   "metadata": {}
  },
  {
   "cell_type": "code",
   "execution_count": 3,
   "source": [
    "def search(query):\r\n",
    "     url = 'http://localhost:9200/cran-data/_search'\r\n",
    "     httpResp = requests.get(url, data=json.dumps(query), headers={\"content-type\":\"application/json\"})\r\n",
    "     searchHits = json.loads(httpResp.text)[\"hits\"]\r\n",
    "     print (\"Sno: \\tRelevance Score\\t\\t ID\\t Title\")\r\n",
    "     for idx, hit in enumerate(searchHits['hits']):\r\n",
    "         print(\"%s\\t%s\\t\\t%s\\t%s\" %\r\n",
    "               (idx + 1, hit['_score'], hit['_source']['id'], hit['_source']['title']))"
   ],
   "outputs": [],
   "metadata": {}
  },
  {
   "cell_type": "code",
   "execution_count": 4,
   "source": [
    "query = {      \r\n",
    "    \"query\": {\r\n",
    "        \"match\": {\r\n",
    "            \"title\":\"what are the laws which are concerned about the dynamic viscous nature of fluid in heated substance\"\r\n",
    "         }\r\n",
    "     }\r\n",
    "}"
   ],
   "outputs": [],
   "metadata": {}
  },
  {
   "cell_type": "code",
   "execution_count": 5,
   "source": [
    "search(query)"
   ],
   "outputs": [
    {
     "output_type": "stream",
     "name": "stdout",
     "text": [
      "Sno: \tRelevance Score\t\t ID\t Title\n",
      "1\t15.641595\t\t59\ttables of exact laminar-boundary layer solutions when\n",
      "the wall is porous and fluid properties are variable .\n",
      "2\t14.492602\t\t13\tsimilarity laws for stressing heated wings .\n",
      "3\t11.316757\t\t1392\tthe solution of small displacement, stability or vibration\n",
      "problems concerning a flat rectangular panel when the\n",
      "edges are either clamped or simply supported .\n",
      "4\t9.405492\t\t298\tincompressible wedge flows of an electrically conducting\n",
      "viscous fluid in the presence of a magnetic field .\n",
      "5\t9.200424\t\t324\tvorticity effect on the stagnation point flow of a viscous\n",
      "incompressible fluid .\n",
      "6\t8.728717\t\t309\ton the motion of a flat plate at high speed in a viscous\n",
      "compressible fluid, ii, steady motion .\n",
      "7\t8.410744\t\t323\tvorticity interaction at an axisymmetric stagnation\n",
      "point in a viscous incompressible fluid .\n",
      "8\t8.410744\t\t389\tsimple shear flow past a flat plate in a compressible\n",
      "viscous fluid .\n",
      "9\t8.320784\t\t531\tthe flow about a moving body in the upper ionosphere .\n",
      "10\t8.293165\t\t486\tsimilarity laws for aerothermoelastic testing .\n"
     ]
    }
   ],
   "metadata": {}
  },
  {
   "cell_type": "code",
   "execution_count": 6,
   "source": [
    "query = {      \r\n",
    "    \"query\": {\r\n",
    "        \"multi_match\": {\r\n",
    "            \"query\": \"what are the laws which are concerned about the dynamic viscous nature of fluid in heated substance\",\r\n",
    "            \"fields\": [\"title\", \"data\"]\r\n",
    "         }\r\n",
    "     }\r\n",
    "}"
   ],
   "outputs": [],
   "metadata": {}
  },
  {
   "cell_type": "code",
   "execution_count": 7,
   "source": [
    "search(query)"
   ],
   "outputs": [
    {
     "output_type": "stream",
     "name": "stdout",
     "text": [
      "Sno: \tRelevance Score\t\t ID\t Title\n",
      "1\t15.641595\t\t59\ttables of exact laminar-boundary layer solutions when\n",
      "the wall is porous and fluid properties are variable .\n",
      "2\t14.492602\t\t13\tsimilarity laws for stressing heated wings .\n",
      "3\t13.804045\t\t1268\tstable combustion of a high-velocity gas in a heated\n",
      "boundary layer .\n",
      "4\t13.570865\t\t817\tloading paths and the incremental stress law .\n",
      "5\t13.428853\t\t260\ta critical review of skin friction and heat transfer\n",
      "solutions of the laminar boundary layer of a flat plate .\n",
      "6\t12.433724\t\t1072\tignition and combustion in a laminar mixing zone .\n",
      "7\t11.74582\t\t228\tnavier-stokes solutions at large distances from a finite body .\n",
      "8\t11.735395\t\t792\tsome low speed problems of high speed aircraft .\n",
      "9\t11.709313\t\t117\tthe motion of a viscous liquid past a paraboloid .\n",
      "10\t11.606999\t\t1078\tthe steady flow of a viscous fluid past a circular cylinder at reynolds\n",
      "numbers 40 and 44 .\n"
     ]
    }
   ],
   "metadata": {}
  },
  {
   "cell_type": "code",
   "execution_count": 8,
   "source": [
    "query = {      \r\n",
    "    \"query\": {\r\n",
    "        \"multi_match\": {\r\n",
    "            \"query\": \"what are the laws which are concerned about the dynamic viscous nature of fluid in heated substance\",\r\n",
    "            \"fields\": [\"title\", \"data^10\"]\r\n",
    "         }\r\n",
    "     }\r\n",
    "}"
   ],
   "outputs": [],
   "metadata": {}
  },
  {
   "cell_type": "code",
   "execution_count": 9,
   "source": [
    "search(query)"
   ],
   "outputs": [
    {
     "output_type": "stream",
     "name": "stdout",
     "text": [
      "Sno: \tRelevance Score\t\t ID\t Title\n",
      "1\t139.49104\t\t13\tsimilarity laws for stressing heated wings .\n",
      "2\t138.04045\t\t1268\tstable combustion of a high-velocity gas in a heated\n",
      "boundary layer .\n",
      "3\t135.70865\t\t817\tloading paths and the incremental stress law .\n",
      "4\t134.28853\t\t260\ta critical review of skin friction and heat transfer\n",
      "solutions of the laminar boundary layer of a flat plate .\n",
      "5\t124.33724\t\t1072\tignition and combustion in a laminar mixing zone .\n",
      "6\t117.4582\t\t228\tnavier-stokes solutions at large distances from a finite body .\n",
      "7\t117.35395\t\t792\tsome low speed problems of high speed aircraft .\n",
      "8\t117.09314\t\t117\tthe motion of a viscous liquid past a paraboloid .\n",
      "9\t116.06999\t\t1078\tthe steady flow of a viscous fluid past a circular cylinder at reynolds\n",
      "numbers 40 and 44 .\n",
      "10\t114.627106\t\t530\tan aerodynamic analysis for flutter in oseen-type viscous\n",
      "flow .\n"
     ]
    }
   ],
   "metadata": {}
  }
 ],
 "metadata": {
  "orig_nbformat": 4,
  "language_info": {
   "name": "python",
   "version": "3.9.7",
   "mimetype": "text/x-python",
   "codemirror_mode": {
    "name": "ipython",
    "version": 3
   },
   "pygments_lexer": "ipython3",
   "nbconvert_exporter": "python",
   "file_extension": ".py"
  },
  "kernelspec": {
   "name": "python3",
   "display_name": "Python 3.9.7 64-bit"
  },
  "interpreter": {
   "hash": "5d479b04e65e594324474387e3b05513df1983105cad467cfd62ed19cf8fb56b"
  }
 },
 "nbformat": 4,
 "nbformat_minor": 2
}