{
 "cells": [
  {
   "cell_type": "code",
   "execution_count": 2,
   "source": [
    "import requests\r\n",
    "import json"
   ],
   "outputs": [],
   "metadata": {}
  },
  {
   "cell_type": "code",
   "execution_count": 4,
   "source": [
    "query = {\r\n",
    "  \"analyzer\": \"standard\",\r\n",
    "  \"text\": \"The 2 QUICK Brown-Foxes jumped over the lazy dog's bone.\"\r\n",
    "}\r\n",
    "\r\n",
    "url = 'http://localhost:9200/_analyze'\r\n",
    "httpResp = requests.post(url, data=json.dumps(query), headers={\"content-type\":\"application/json\"})\r\n",
    "searchHits = json.loads(httpResp.text)\r\n",
    "print(searchHits)\r\n"
   ],
   "outputs": [
    {
     "output_type": "stream",
     "name": "stdout",
     "text": [
      "{'tokens': [{'token': 'the', 'start_offset': 0, 'end_offset': 3, 'type': '<ALPHANUM>', 'position': 0}, {'token': '2', 'start_offset': 4, 'end_offset': 5, 'type': '<NUM>', 'position': 1}, {'token': 'quick', 'start_offset': 6, 'end_offset': 11, 'type': '<ALPHANUM>', 'position': 2}, {'token': 'brown', 'start_offset': 12, 'end_offset': 17, 'type': '<ALPHANUM>', 'position': 3}, {'token': 'foxes', 'start_offset': 18, 'end_offset': 23, 'type': '<ALPHANUM>', 'position': 4}, {'token': 'jumped', 'start_offset': 24, 'end_offset': 30, 'type': '<ALPHANUM>', 'position': 5}, {'token': 'over', 'start_offset': 31, 'end_offset': 35, 'type': '<ALPHANUM>', 'position': 6}, {'token': 'the', 'start_offset': 36, 'end_offset': 39, 'type': '<ALPHANUM>', 'position': 7}, {'token': 'lazy', 'start_offset': 40, 'end_offset': 44, 'type': '<ALPHANUM>', 'position': 8}, {'token': \"dog's\", 'start_offset': 45, 'end_offset': 50, 'type': '<ALPHANUM>', 'position': 9}, {'token': 'bone', 'start_offset': 51, 'end_offset': 55, 'type': '<ALPHANUM>', 'position': 10}]}\n"
     ]
    }
   ],
   "metadata": {}
  },
  {
   "cell_type": "code",
   "execution_count": 6,
   "source": [
    "query = {\r\n",
    "  \"settings\": {\r\n",
    "    \"analysis\": {\r\n",
    "      \"analyzer\": {\r\n",
    "        \"my_english_analyzer\": {\r\n",
    "          \"type\": \"standard\",\r\n",
    "          \"max_token_length\": 5,\r\n",
    "          \"stopwords\": \"_english_\"\r\n",
    "        }\r\n",
    "      }\r\n",
    "    }\r\n",
    "  }\r\n",
    "}\r\n",
    "\r\n",
    "url = 'http://localhost:9200/my-index-000002'\r\n",
    "httpResp = requests.put(url, data=json.dumps(query), headers={\"content-type\":\"application/json\"})\r\n",
    "searchHits = json.loads(httpResp.text)\r\n",
    "print(searchHits)\r\n"
   ],
   "outputs": [
    {
     "output_type": "stream",
     "name": "stdout",
     "text": [
      "{'acknowledged': True, 'shards_acknowledged': True, 'index': 'my-index-000002'}\n"
     ]
    }
   ],
   "metadata": {}
  },
  {
   "cell_type": "code",
   "execution_count": 8,
   "source": [
    "query = {\r\n",
    "  \"analyzer\": \"my_english_analyzer\",\r\n",
    "  \"text\": \"The 2 QUICK Brown-Foxes jumped over the lazy dog's bone.\"\r\n",
    "}\r\n",
    "\r\n",
    "url = 'http://localhost:9200/my-index-000002/_analyze'\r\n",
    "httpResp = requests.post(url, data=json.dumps(query), headers={\"content-type\":\"application/json\"})\r\n",
    "searchHits = json.loads(httpResp.text)\r\n",
    "print(searchHits)\r\n"
   ],
   "outputs": [
    {
     "output_type": "stream",
     "name": "stdout",
     "text": [
      "{'tokens': [{'token': '2', 'start_offset': 4, 'end_offset': 5, 'type': '<NUM>', 'position': 1}, {'token': 'quick', 'start_offset': 6, 'end_offset': 11, 'type': '<ALPHANUM>', 'position': 2}, {'token': 'brown', 'start_offset': 12, 'end_offset': 17, 'type': '<ALPHANUM>', 'position': 3}, {'token': 'foxes', 'start_offset': 18, 'end_offset': 23, 'type': '<ALPHANUM>', 'position': 4}, {'token': 'jumpe', 'start_offset': 24, 'end_offset': 29, 'type': '<ALPHANUM>', 'position': 5}, {'token': 'd', 'start_offset': 29, 'end_offset': 30, 'type': '<ALPHANUM>', 'position': 6}, {'token': 'over', 'start_offset': 31, 'end_offset': 35, 'type': '<ALPHANUM>', 'position': 7}, {'token': 'lazy', 'start_offset': 40, 'end_offset': 44, 'type': '<ALPHANUM>', 'position': 9}, {'token': \"dog's\", 'start_offset': 45, 'end_offset': 50, 'type': '<ALPHANUM>', 'position': 10}, {'token': 'bone', 'start_offset': 51, 'end_offset': 55, 'type': '<ALPHANUM>', 'position': 11}]}\n"
     ]
    }
   ],
   "metadata": {}
  },
  {
   "cell_type": "code",
   "execution_count": 9,
   "source": [
    "query = {\r\n",
    "  \"title\" : \"apple apple apple apple apple\"\r\n",
    "}\r\n",
    "\r\n",
    "url = 'http://localhost:9200/my-index-000002/example/1'\r\n",
    "httpResp = requests.post(url, data=json.dumps(query), headers={\"content-type\":\"application/json\"})\r\n",
    "searchHits = json.loads(httpResp.text)\r\n",
    "print(searchHits)"
   ],
   "outputs": [
    {
     "output_type": "stream",
     "name": "stdout",
     "text": [
      "{'_index': 'my-index-000002', '_type': 'example', '_id': '1', '_version': 1, 'result': 'created', '_shards': {'total': 2, 'successful': 1, 'failed': 0}, '_seq_no': 0, '_primary_term': 1}\n"
     ]
    }
   ],
   "metadata": {}
  },
  {
   "cell_type": "code",
   "execution_count": 11,
   "source": [
    "query = {\r\n",
    "  \"title\" : \"apple apple apple banana banana\"\r\n",
    "}\r\n",
    "\r\n",
    "url = 'http://localhost:9200/my-index-000002/example/2'\r\n",
    "httpResp = requests.post(url, data=json.dumps(query), headers={\"content-type\":\"application/json\"})\r\n",
    "searchHits = json.loads(httpResp.text)\r\n",
    "print(searchHits)"
   ],
   "outputs": [
    {
     "output_type": "stream",
     "name": "stdout",
     "text": [
      "{'_index': 'my-index-000002', '_type': 'example', '_id': '2', '_version': 1, 'result': 'created', '_shards': {'total': 2, 'successful': 1, 'failed': 0}, '_seq_no': 2, '_primary_term': 1}\n"
     ]
    }
   ],
   "metadata": {}
  },
  {
   "cell_type": "code",
   "execution_count": 12,
   "source": [
    "query = {\r\n",
    "  \"title\" : \"apple blueberry banana coconut\"\r\n",
    "}\r\n",
    "\r\n",
    "url = 'http://localhost:9200/my-index-000002/example/3'\r\n",
    "httpResp = requests.post(url, data=json.dumps(query), headers={\"content-type\":\"application/json\"})\r\n",
    "searchHits = json.loads(httpResp.text)\r\n",
    "print(searchHits)"
   ],
   "outputs": [
    {
     "output_type": "stream",
     "name": "stdout",
     "text": [
      "{'_index': 'my-index-000002', '_type': 'example', '_id': '3', '_version': 1, 'result': 'created', '_shards': {'total': 2, 'successful': 1, 'failed': 0}, '_seq_no': 3, '_primary_term': 1}\n"
     ]
    }
   ],
   "metadata": {}
  },
  {
   "cell_type": "code",
   "execution_count": 13,
   "source": [
    "query = {\r\n",
    "  \"explain\" : \"true\",\r\n",
    "  \"query\": {\r\n",
    "    \"match\": {\r\n",
    "      \"title\": \"apple banana\"\r\n",
    "      }\r\n",
    "    }\r\n",
    "  }\r\n",
    "\r\n",
    "url = 'http://localhost:9200/my-index-000002/example/_search'\r\n",
    "httpResp = requests.get(url, data=json.dumps(query), headers={\"content-type\":\"application/json\"})\r\n",
    "searchHits = json.loads(httpResp.text)\r\n",
    "print(searchHits)"
   ],
   "outputs": [
    {
     "output_type": "stream",
     "name": "stdout",
     "text": [
      "{'took': 1250, 'timed_out': False, '_shards': {'total': 1, 'successful': 1, 'skipped': 0, 'failed': 0}, 'hits': {'total': {'value': 3, 'relation': 'eq'}, 'max_score': 0.64699435, 'hits': [{'_shard': '[my-index-000002][0]', '_node': 'O1dFvkJCSMqoTRRsFPtC1Q', '_index': 'my-index-000002', '_type': 'example', '_id': '1', '_score': 0.64699435, '_source': {'title': 'apple apple apple banana banana'}, '_explanation': {'value': 0.64699435, 'description': 'sum of:', 'details': [{'value': 0.16372004, 'description': 'weight(title:apple in 1) [PerFieldSimilarity], result of:', 'details': [{'value': 0.16372004, 'description': 'score(freq=3.0), computed as boost * idf * tf from:', 'details': [{'value': 2.2, 'description': 'boost', 'details': []}, {'value': 0.105360515, 'description': 'idf, computed as log(1 + (N - n + 0.5) / (n + 0.5)) from:', 'details': [{'value': 4, 'description': 'n, number of documents containing term', 'details': []}, {'value': 4, 'description': 'N, total number of documents with field', 'details': []}]}, {'value': 0.7063197, 'description': 'tf, computed as freq / (freq + k1 * (1 - b + b * dl / avgdl)) from:', 'details': [{'value': 3.0, 'description': 'freq, occurrences of term within document', 'details': []}, {'value': 1.2, 'description': 'k1, term saturation parameter', 'details': []}, {'value': 0.75, 'description': 'b, length normalization parameter', 'details': []}, {'value': 5.0, 'description': 'dl, length of field', 'details': []}, {'value': 4.75, 'description': 'avgdl, average length of field', 'details': []}]}]}]}, {'value': 0.4832743, 'description': 'weight(title:banana in 1) [PerFieldSimilarity], result of:', 'details': [{'value': 0.4832743, 'description': 'score(freq=2.0), computed as boost * idf * tf from:', 'details': [{'value': 2.2, 'description': 'boost', 'details': []}, {'value': 0.35667494, 'description': 'idf, computed as log(1 + (N - n + 0.5) / (n + 0.5)) from:', 'details': [{'value': 3, 'description': 'n, number of documents containing term', 'details': []}, {'value': 4, 'description': 'N, total number of documents with field', 'details': []}]}, {'value': 0.6158833, 'description': 'tf, computed as freq / (freq + k1 * (1 - b + b * dl / avgdl)) from:', 'details': [{'value': 2.0, 'description': 'freq, occurrences of term within document', 'details': []}, {'value': 1.2, 'description': 'k1, term saturation parameter', 'details': []}, {'value': 0.75, 'description': 'b, length normalization parameter', 'details': []}, {'value': 5.0, 'description': 'dl, length of field', 'details': []}, {'value': 4.75, 'description': 'avgdl, average length of field', 'details': []}]}]}]}]}}, {'_shard': '[my-index-000002][0]', '_node': 'O1dFvkJCSMqoTRRsFPtC1Q', '_index': 'my-index-000002', '_type': 'example', '_id': '2', '_score': 0.64699435, '_source': {'title': 'apple apple apple banana banana'}, '_explanation': {'value': 0.64699435, 'description': 'sum of:', 'details': [{'value': 0.16372004, 'description': 'weight(title:apple in 2) [PerFieldSimilarity], result of:', 'details': [{'value': 0.16372004, 'description': 'score(freq=3.0), computed as boost * idf * tf from:', 'details': [{'value': 2.2, 'description': 'boost', 'details': []}, {'value': 0.105360515, 'description': 'idf, computed as log(1 + (N - n + 0.5) / (n + 0.5)) from:', 'details': [{'value': 4, 'description': 'n, number of documents containing term', 'details': []}, {'value': 4, 'description': 'N, total number of documents with field', 'details': []}]}, {'value': 0.7063197, 'description': 'tf, computed as freq / (freq + k1 * (1 - b + b * dl / avgdl)) from:', 'details': [{'value': 3.0, 'description': 'freq, occurrences of term within document', 'details': []}, {'value': 1.2, 'description': 'k1, term saturation parameter', 'details': []}, {'value': 0.75, 'description': 'b, length normalization parameter', 'details': []}, {'value': 5.0, 'description': 'dl, length of field', 'details': []}, {'value': 4.75, 'description': 'avgdl, average length of field', 'details': []}]}]}]}, {'value': 0.4832743, 'description': 'weight(title:banana in 2) [PerFieldSimilarity], result of:', 'details': [{'value': 0.4832743, 'description': 'score(freq=2.0), computed as boost * idf * tf from:', 'details': [{'value': 2.2, 'description': 'boost', 'details': []}, {'value': 0.35667494, 'description': 'idf, computed as log(1 + (N - n + 0.5) / (n + 0.5)) from:', 'details': [{'value': 3, 'description': 'n, number of documents containing term', 'details': []}, {'value': 4, 'description': 'N, total number of documents with field', 'details': []}]}, {'value': 0.6158833, 'description': 'tf, computed as freq / (freq + k1 * (1 - b + b * dl / avgdl)) from:', 'details': [{'value': 2.0, 'description': 'freq, occurrences of term within document', 'details': []}, {'value': 1.2, 'description': 'k1, term saturation parameter', 'details': []}, {'value': 0.75, 'description': 'b, length normalization parameter', 'details': []}, {'value': 5.0, 'description': 'dl, length of field', 'details': []}, {'value': 4.75, 'description': 'avgdl, average length of field', 'details': []}]}]}]}]}}, {'_shard': '[my-index-000002][0]', '_node': 'O1dFvkJCSMqoTRRsFPtC1Q', '_index': 'my-index-000002', '_type': 'example', '_id': '3', '_score': 0.49394074, '_source': {'title': 'apple blueberry banana coconut'}, '_explanation': {'value': 0.49394074, 'description': 'sum of:', 'details': [{'value': 0.11263605, 'description': 'weight(title:apple in 3) [PerFieldSimilarity], result of:', 'details': [{'value': 0.11263605, 'description': 'score(freq=1.0), computed as boost * idf * tf from:', 'details': [{'value': 2.2, 'description': 'boost', 'details': []}, {'value': 0.105360515, 'description': 'idf, computed as log(1 + (N - n + 0.5) / (n + 0.5)) from:', 'details': [{'value': 4, 'description': 'n, number of documents containing term', 'details': []}, {'value': 4, 'description': 'N, total number of documents with field', 'details': []}]}, {'value': 0.48593348, 'description': 'tf, computed as freq / (freq + k1 * (1 - b + b * dl / avgdl)) from:', 'details': [{'value': 1.0, 'description': 'freq, occurrences of term within document', 'details': []}, {'value': 1.2, 'description': 'k1, term saturation parameter', 'details': []}, {'value': 0.75, 'description': 'b, length normalization parameter', 'details': []}, {'value': 4.0, 'description': 'dl, length of field', 'details': []}, {'value': 4.75, 'description': 'avgdl, average length of field', 'details': []}]}]}]}, {'value': 0.38130468, 'description': 'weight(title:banana in 3) [PerFieldSimilarity], result of:', 'details': [{'value': 0.38130468, 'description': 'score(freq=1.0), computed as boost * idf * tf from:', 'details': [{'value': 2.2, 'description': 'boost', 'details': []}, {'value': 0.35667494, 'description': 'idf, computed as log(1 + (N - n + 0.5) / (n + 0.5)) from:', 'details': [{'value': 3, 'description': 'n, number of documents containing term', 'details': []}, {'value': 4, 'description': 'N, total number of documents with field', 'details': []}]}, {'value': 0.48593348, 'description': 'tf, computed as freq / (freq + k1 * (1 - b + b * dl / avgdl)) from:', 'details': [{'value': 1.0, 'description': 'freq, occurrences of term within document', 'details': []}, {'value': 1.2, 'description': 'k1, term saturation parameter', 'details': []}, {'value': 0.75, 'description': 'b, length normalization parameter', 'details': []}, {'value': 4.0, 'description': 'dl, length of field', 'details': []}, {'value': 4.75, 'description': 'avgdl, average length of field', 'details': []}]}]}]}]}}]}}\n"
     ]
    }
   ],
   "metadata": {}
  }
 ],
 "metadata": {
  "orig_nbformat": 4,
  "language_info": {
   "name": "python",
   "version": "3.9.7",
   "mimetype": "text/x-python",
   "codemirror_mode": {
    "name": "ipython",
    "version": 3
   },
   "pygments_lexer": "ipython3",
   "nbconvert_exporter": "python",
   "file_extension": ".py"
  },
  "kernelspec": {
   "name": "python3",
   "display_name": "Python 3.9.7 64-bit"
  },
  "interpreter": {
   "hash": "5d479b04e65e594324474387e3b05513df1983105cad467cfd62ed19cf8fb56b"
  }
 },
 "nbformat": 4,
 "nbformat_minor": 2
}